{
 "cells": [
  {
   "cell_type": "code",
   "execution_count": 1,
   "id": "c488cb47-c078-499f-be4a-b0f5909d9a41",
   "metadata": {},
   "outputs": [],
   "source": [
    "dictionary =  {'il': 1, 'gatto': 2, 'mangia': 3, 'topo': 4, 'miagola': 5, 'cane': 6, 'abbaia': 7, 'formaggio': 8, \n",
    "               'bimbo': 9, 'chiama': 10, 'la': 11, 'mamma': 12, 'pappa': 13, 'piange': 14, 'e': 15, 'giocano': 16, \n",
    "               ' ': 0}"
   ]
  },
  {
   "cell_type": "code",
   "execution_count": 2,
   "id": "156832f7-999d-4ff6-9a7c-dfd19b2490d7",
   "metadata": {},
   "outputs": [],
   "source": [
    "def inOutExperiments(i0,i1,i2):\n",
    "    inExp=[0,0,0]\n",
    "    inExp[0]=(1/16)*dictionary[i0]\n",
    "    inExp[1]=(1/16)*dictionary[i1]\n",
    "    inExp[2]=(1/16)*dictionary[i2]\n",
    "\n",
    "    test_outputs = forward_pass_with_activations([inExp])\n",
    "    ou=[round(16*test_outputs[0]),round(16*test_outputs[1])]\n",
    "\n",
    "    # Find all keys for the values in ou\n",
    "    for v in ou:\n",
    "        keys = [key for key, val in dictionary.items() if val == v]\n",
    "        print(keys)  "
   ]
  },
  {
   "cell_type": "code",
   "execution_count": 3,
   "id": "89b8c3aa-13f1-4a96-a52e-96ec9ad4d436",
   "metadata": {},
   "outputs": [
    {
     "name": "stdout",
     "output_type": "stream",
     "text": [
      "Weights from input to hidden layer after learning:\n",
      "[[ -0.71465154  -0.3210302    0.49648906   4.59054407]\n",
      " [ -0.94954208  -1.63647719  -0.20193654  -3.3737532 ]\n",
      " [ -1.42641956  18.25880013   0.12892864 -10.89382418]\n",
      " [-12.65019042  -0.84481663  23.80123136   0.28621028]\n",
      " [  2.64642418   1.48924305  -1.53038753   5.46379958]\n",
      " [ -3.33884245  -4.07165293  -1.22119115   4.28568956]\n",
      " [ -0.61164728   1.07353045  -1.4058122   -6.06435088]\n",
      " [  4.74788717   0.82536031  -2.06809244   6.66366344]\n",
      " [  0.20192428  -0.1881289    1.66940678   5.20337446]\n",
      " [  1.73374194  -0.79202101  -0.30573034   5.92790689]]\n",
      "\n",
      "Weights from hidden to output layer after learning:\n",
      "[[-0.58555804 -0.09061149  8.50415442 -2.76610198  0.90663767 -1.55374768\n",
      "   1.98298431  0.4087315  -0.63589377 -0.38817646  2.05426396]\n",
      " [-0.33929426  0.47172414  6.06215517  7.93183165 -2.59263129  0.95161749\n",
      "   0.35347361 -3.95034648 -1.05794639 -1.52583649 -0.06470328]]\n"
     ]
    }
   ],
   "source": [
    "# preparato da Copilot via WhatsApp\n",
    "import numpy as np\n",
    "import csv\n",
    "\n",
    "# Sigmoid activation function and its derivative\n",
    "def sigmoid(x):\n",
    "    return 1 / (1 + np.exp(-x))\n",
    "\n",
    "def sigmoid_derivative(x):\n",
    "    return x * (1 - x)\n",
    "\n",
    "# ANN parameters\n",
    "input_nodes = 3\n",
    "hidden_nodes = 10\n",
    "output_nodes = 2\n",
    "learning_rate = 0.01\n",
    "epochs = 200000\n",
    "\n",
    "# Initialize weights randomly\n",
    "#np.random.seed(42)\n",
    "weights_input_hidden = np.random.rand(hidden_nodes, input_nodes + 1) - 0.5  # +1 for bias\n",
    "weights_hidden_output = np.random.rand(output_nodes, hidden_nodes + 1) - 0.5  # +1 for bias\n",
    "\n",
    "# Training phase\n",
    "def train(inputs, expected_output):\n",
    "    global weights_input_hidden, weights_hidden_output\n",
    "    \n",
    "    inputs_with_bias = np.append(inputs, 1)  # Add bias to inputs\n",
    "    hidden_inputs = np.dot(weights_input_hidden, inputs_with_bias)\n",
    "    hidden_outputs = sigmoid(hidden_inputs)\n",
    "    \n",
    "    hidden_outputs_with_bias = np.append(hidden_outputs, 1)  # Add bias to hidden outputs\n",
    "    final_inputs = np.dot(weights_hidden_output, hidden_outputs_with_bias)\n",
    "    final_outputs = sigmoid(final_inputs)\n",
    "    \n",
    "    # Error calculation\n",
    "    output_error = expected_output - final_outputs\n",
    "    hidden_error = np.dot(weights_hidden_output[:, :-1].T, output_error) * sigmoid_derivative(hidden_outputs)\n",
    "\n",
    "    # Update weights\n",
    "    weights_hidden_output += learning_rate * np.outer(output_error * sigmoid_derivative(final_outputs), hidden_outputs_with_bias)\n",
    "    weights_input_hidden += learning_rate * np.outer(hidden_error, inputs_with_bias)\n",
    "\n",
    "# Forward application phase with activations display\n",
    "def forward_pass_with_activations(inputs):\n",
    "    inputs_with_bias = np.append(inputs, 1)  # Add bias to inputs\n",
    "    hidden_inputs = np.dot(weights_input_hidden, inputs_with_bias)\n",
    "    hidden_outputs = sigmoid(hidden_inputs)\n",
    "    \n",
    "    print(\"Activation levels of hidden nodes (before bias):\")\n",
    "    print(hidden_outputs)\n",
    "    \n",
    "    hidden_outputs_with_bias = np.append(hidden_outputs, 1)  # Add bias to hidden outputs\n",
    "    final_inputs = np.dot(weights_hidden_output, hidden_outputs_with_bias)\n",
    "    final_outputs = sigmoid(final_inputs)\n",
    "    \n",
    "    print(\"\\nActivation levels of output nodes:\")\n",
    "    print(final_outputs)\n",
    "    \n",
    "    return final_outputs\n",
    "\n",
    "# Example data\n",
    "training_inputs =[]\n",
    "with open(\"in.txt\", newline='') as csvfile:\n",
    "    reader= csv.reader(csvfile, delimiter=',', quoting=csv.QUOTE_NONNUMERIC)\n",
    "    for row in reader:\n",
    "        training_inputs.append(row)\n",
    "training_outputs =[]\n",
    "with open(\"ou.txt\", newline='') as csvfile:\n",
    "    reader= csv.reader(csvfile, delimiter=',', quoting=csv.QUOTE_NONNUMERIC)\n",
    "    for row in reader:\n",
    "        training_outputs.append(row)\n",
    "\n",
    "# Train the network\n",
    "for epoch in range(epochs):\n",
    "    for i in range(len(training_inputs)):\n",
    "        train(training_inputs[i], training_outputs[i])\n",
    "\n",
    "# Display final weight matrices\n",
    "print(\"Weights from input to hidden layer after learning:\")\n",
    "print(weights_input_hidden)\n",
    "print(\"\\nWeights from hidden to output layer after learning:\")\n",
    "print(weights_hidden_output)\n",
    "\n"
   ]
  },
  {
   "cell_type": "markdown",
   "id": "4b244c46-17bb-4614-88f2-95d460fd9d4a",
   "metadata": {},
   "source": [
    "  \n",
    "casistica  \n",
    "\n",
    "il,gatto,mangia,>,il,topo  \n",
    "il,gatto,>,miagola  \n",
    "il,cane,mangia,>,il,gatto  \n",
    "il,cane,>,abbaia  \n",
    "il,topo,mangia,>,il,formaggio  \n",
    "il,bimbo,chiama,>,la,mamma  \n",
    "il,bimbo,mangia,>,la,pappa  \n",
    "il,bimbo,>,piange  \n",
    "bimbo,e,gatto,>,giocano  \n",
    "\n",
    "0 per le posizioni vuote"
   ]
  },
  {
   "cell_type": "code",
   "execution_count": 4,
   "id": "5735dfcd-0221-44c3-be9a-83c4350151b6",
   "metadata": {},
   "outputs": [
    {
     "name": "stdout",
     "output_type": "stream",
     "text": [
      "Activation levels of hidden nodes (before bias):\n",
      "[0.98744868 0.01269692 0.32906867 0.27296402 0.99844838 0.85652309\n",
      " 0.00407534 0.999404   0.99400116 0.99628166]\n",
      "\n",
      "Activation levels of output nodes:\n",
      "[0.92347149 0.01071201]\n",
      "['e']\n",
      "[' ']\n"
     ]
    }
   ],
   "source": [
    "ou=inOutExperiments(\"il\",\"bimbo\",\" \")"
   ]
  },
  {
   "cell_type": "code",
   "execution_count": null,
   "id": "403f60a8-a798-431e-b621-2c25526972b3",
   "metadata": {},
   "outputs": [],
   "source": []
  }
 ],
 "metadata": {
  "kernelspec": {
   "display_name": "Python 3 (ipykernel)",
   "language": "python",
   "name": "python3"
  },
  "language_info": {
   "codemirror_mode": {
    "name": "ipython",
    "version": 3
   },
   "file_extension": ".py",
   "mimetype": "text/x-python",
   "name": "python",
   "nbconvert_exporter": "python",
   "pygments_lexer": "ipython3",
   "version": "3.11.7"
  }
 },
 "nbformat": 4,
 "nbformat_minor": 5
}
