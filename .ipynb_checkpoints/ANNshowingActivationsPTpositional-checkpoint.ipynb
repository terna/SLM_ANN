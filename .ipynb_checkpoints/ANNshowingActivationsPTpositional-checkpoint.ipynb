{
 "cells": [
  {
   "cell_type": "markdown",
   "id": "870357f0-b9f5-4c0a-97d9-72dfdebaeefe",
   "metadata": {},
   "source": [
    "# 0  \n",
    "\n",
    "#### Che cosa è SLM_ANN  \n",
    "Una rete neurale artificiale che opera \"come se\" fosse un piccolo modello linguistico, quindi Small Language Model, **SLM**  \n",
    "#### Come si usa\n",
    "\n",
    "Con clic su ![](https://terna.to.it/SLM_ANN/binder.png) in alto verso destra; attendendo qualche minuto, il programma diviene funzionante su un computer remoto. Con clic su ![](https://terna.to.it/SLM_ANN/esecuzione.png) il progamma va in esecuzione.  \n",
    "\n",
    "#### Che prove si possono fare  \n",
    "\n",
    "Nella casella **3**, se si sostituisce *False* con *True* e si fa clic su ![](https://terna.to.it/SLM_ANN/esecuzioneSpecifica.png) si ottiene il voluminoso output dei parametri del modello.  \n",
    "\n",
    "Nella casella **5** si possono sostituire i termini in input, prima di tutto seguendo le frasi riportate qui sotto e poi provando a disporre in modo capriccioso le parole e gli spazi. Per eseguire la sola cella 5, in cui si sta lavorando, fare clic su ![](https://terna.to.it/SLM_ANN/esecuzioneSpecifica.png)\n",
    "\n",
    "Se si usa un termine non compreso nelle frasi riportate, la parola errata è riportata e l'esecuzione si arresta."
   ]
  },
  {
   "cell_type": "markdown",
   "id": "4b244c46-17bb-4614-88f2-95d460fd9d4a",
   "metadata": {},
   "source": [
    "  \n",
    "-----------------------------    \n",
    "casistica, con **>** che separa l'input dall'output.\n",
    "\n",
    "\n",
    "il,gatto,mangia,>,il,topo  \n",
    "il,gatto, ,>,miagola,  \n",
    "il,cane,mangia,>,il,gatto  \n",
    "il,cane, ,>,abbaia,  \n",
    "il,topo,mangia,>,il,formaggio  \n",
    "il,bimbo,chiama,>,la,mamma  \n",
    "il,bimbo,mangia,>,la,pappa  \n",
    "il,bimbo, ,>,piange,  \n",
    "bimbo,e,gatto,>,giocano,  "
   ]
  },
  {
   "cell_type": "markdown",
   "id": "19529748-8138-4573-ae8d-f2fe5d36ab7e",
   "metadata": {},
   "source": [
    "# 1\n",
    "#### dizionari di servizio"
   ]
  },
  {
   "cell_type": "code",
   "execution_count": 1,
   "id": "c488cb47-c078-499f-be4a-b0f5909d9a41",
   "metadata": {},
   "outputs": [],
   "source": [
    "dictionary = \\\n",
    " {' ': 0, 'il': 1, 'gatto': 2, 'mangia': 3, 'topo': 4, 'miagola': 5, 'cane': 6, 'abbaia': 7, 'formaggio': 8, 'bimbo': 9, \n",
    "  'chiama': 10, 'la': 11, 'mamma': 12, 'pappa': 13, 'piange': 14, 'e': 15, 'giocano': 16}\n",
    "reverseDictionary= \\\n",
    "{0: ' ', 1: 'il', 2: 'gatto', 3: 'mangia', 4: 'topo', 5: 'miagola', 6: 'cane', 7: 'abbaia', 8: 'formaggio', 9: 'bimbo', \n",
    " 10: 'chiama', 11: 'la', 12: 'mamma', 13: 'pappa', 14: 'piange', 15: 'e', 16: 'giocano'}"
   ]
  },
  {
   "cell_type": "markdown",
   "id": "10700462-0ace-406d-b9fa-28dea4fe8d77",
   "metadata": {},
   "source": [
    "# 2  "
   ]
  },
  {
   "cell_type": "code",
   "execution_count": 2,
   "id": "89b8c3aa-13f1-4a96-a52e-96ec9ad4d436",
   "metadata": {},
   "outputs": [],
   "source": [
    "# preparato da Copilot via WhatsApp\n",
    "import numpy as np\n",
    "import csv\n",
    "\n",
    "# Sigmoid activation function and its derivative\n",
    "def sigmoid(x):\n",
    "    return 1 / (1 + np.exp(-x))\n",
    "\n",
    "def sigmoid_derivative(x):\n",
    "    return x * (1 - x)\n",
    "\n",
    "# ANN parameters\n",
    "input_nodes = 17*3\n",
    "hidden_nodes = 100\n",
    "output_nodes = 17*2\n",
    "learning_rate = 0.5\n",
    "epochs = 10000\n",
    "\n",
    "# Initialize weights randomly\n",
    "np.random.seed(42)\n",
    "weights_input_hidden = np.random.rand(hidden_nodes, input_nodes + 1) - 0.5  # +1 for bias\n",
    "weights_hidden_output = np.random.rand(output_nodes, hidden_nodes + 1) - 0.5  # +1 for bias\n",
    "\n",
    "# Training phase\n",
    "def train(inputs, expected_output):\n",
    "    global weights_input_hidden, weights_hidden_output\n",
    "    \n",
    "    inputs_with_bias = np.append(inputs, 1)  # Add bias to inputs\n",
    "    hidden_inputs = np.dot(weights_input_hidden, inputs_with_bias)\n",
    "    hidden_outputs = sigmoid(hidden_inputs)\n",
    "    \n",
    "    hidden_outputs_with_bias = np.append(hidden_outputs, 1)  # Add bias to hidden outputs\n",
    "    final_inputs = np.dot(weights_hidden_output, hidden_outputs_with_bias)\n",
    "    final_outputs = sigmoid(final_inputs)\n",
    "    \n",
    "    # Error calculation\n",
    "    output_error = expected_output - final_outputs\n",
    "    hidden_error = np.dot(weights_hidden_output[:, :-1].T, output_error) * sigmoid_derivative(hidden_outputs)\n",
    "\n",
    "    # Update weights\n",
    "    weights_hidden_output += learning_rate * np.outer(output_error * sigmoid_derivative(final_outputs), hidden_outputs_with_bias)\n",
    "    weights_input_hidden += learning_rate * np.outer(hidden_error, inputs_with_bias)\n",
    "\n",
    "# Forward application phase with activations display\n",
    "def forward_pass_with_activations(inputs):\n",
    "    inputs_with_bias = np.append(inputs, 1)  # Add bias to inputs\n",
    "    hidden_inputs = np.dot(weights_input_hidden, inputs_with_bias)\n",
    "    hidden_outputs = sigmoid(hidden_inputs)\n",
    "    \n",
    "    print(\"Activation levels of hidden nodes (before bias):\")\n",
    "    print(hidden_outputs)\n",
    "    \n",
    "    hidden_outputs_with_bias = np.append(hidden_outputs, 1)  # Add bias to hidden outputs\n",
    "    final_inputs = np.dot(weights_hidden_output, hidden_outputs_with_bias)\n",
    "    final_outputs = sigmoid(final_inputs)\n",
    "    \n",
    "    print(\"\\nActivation levels of output nodes:\")\n",
    "    print(final_outputs[0:17])\n",
    "    print(final_outputs[17:])\n",
    "    \n",
    "    return final_outputs\n",
    "\n",
    "# Example data\n",
    "training_inputs =[]\n",
    "with open(\"in.txt\", 'r') as file1:\n",
    "    for line in file1:\n",
    "        # Remove leading/trailing whitespace and brackets\n",
    "        line = line.strip().strip('[]')\n",
    "        # Split the line into individual numbers and convert to integers\n",
    "        numbers = [float(num.strip()) for num in line.split(',')]\n",
    "        training_inputs.append(numbers)\n",
    "#print(training_inputs)\n",
    "\n",
    "training_outputs =[]\n",
    "with open(\"ou.txt\", 'r') as file2:\n",
    "    for line in file2:\n",
    "        # Remove leading/trailing whitespace and brackets\n",
    "        line = line.strip().strip('[]')\n",
    "        # Split the line into individual numbers and convert to integers\n",
    "        numbers = [float(num.strip()) for num in line.split(',')]\n",
    "        training_outputs.append(numbers)\n",
    "#print(training_outputs)\n",
    "\n",
    "# Train the network\n",
    "for epoch in range(epochs):\n",
    "    for i in range(len(training_inputs)):\n",
    "        train(training_inputs[i], training_outputs[i])\n",
    "\n"
   ]
  },
  {
   "cell_type": "markdown",
   "id": "34a7789d-6e69-4d0c-b639-05782fdf869c",
   "metadata": {},
   "source": [
    "# 3"
   ]
  },
  {
   "cell_type": "code",
   "execution_count": 7,
   "id": "4a5d2fb6-63df-4aca-91dd-d2926677b4be",
   "metadata": {},
   "outputs": [],
   "source": [
    "#to show the weights change to True and run\n",
    "show=False\n",
    "\n",
    "\n",
    "if show:\n",
    "    # Display final weight matrices\n",
    "    print(\"Weights from input to hidden layer after learning:\")\n",
    "    for i in range(len(weights_input_hidden)):\n",
    "        print(weights_input_hidden[i])\n",
    "    print(\"\\nWeights from hidden to output layer after learning:\")\n",
    "    for i in range(len(weights_hidden_output)):\n",
    "        print(weights_hidden_output[i])"
   ]
  },
  {
   "cell_type": "markdown",
   "id": "97e148a6-acc3-47c0-8049-503173029ec5",
   "metadata": {},
   "source": [
    "# 4"
   ]
  },
  {
   "cell_type": "code",
   "execution_count": 4,
   "id": "7dfd02de-4d11-4b8d-8aac-edae31f75204",
   "metadata": {},
   "outputs": [],
   "source": [
    "def inOutExperiments(i0,i1,i2):\n",
    "    inExp=[0]*17*3\n",
    "    try: inExp[dictionary[i0]]=1\n",
    "    except: \n",
    "        print(i0, \" parola sconosciuta\")\n",
    "        return\n",
    "    try: inExp[dictionary[i1]+17]=1\n",
    "    except: \n",
    "        print(i1, \" parola sconosciuta\")\n",
    "        return\n",
    "    try: inExp[dictionary[i2]+17*2]=1\n",
    "    except: \n",
    "        print(i2, \" parola sconosciuta\")\n",
    "        return\n",
    "    print(inExp)\n",
    "\n",
    "    test_outputs = forward_pass_with_activations([inExp])\n",
    "    phrase = f\"{reverseDictionary[np.argmax(test_outputs[0:17])]} {reverseDictionary[np.argmax(test_outputs[17:])]}\" \n",
    "    print()\n",
    "    print(phrase)"
   ]
  },
  {
   "cell_type": "markdown",
   "id": "e8075e5c-4cc9-4064-9365-8a2b9905a79a",
   "metadata": {},
   "source": [
    "# 5"
   ]
  },
  {
   "cell_type": "code",
   "execution_count": 11,
   "id": "fb15ec30-fbbe-4c97-af15-e953d829cb4f",
   "metadata": {},
   "outputs": [
    {
     "name": "stdout",
     "output_type": "stream",
     "text": [
      "[0, 0, 0, 0, 0, 0, 0, 0, 0, 0, 0, 0, 0, 1, 0, 0, 0, 0, 0, 0, 0, 0, 0, 0, 0, 0, 0, 0, 1, 0, 0, 0, 0, 0, 0, 0, 0, 0, 0, 0, 0, 0, 1, 0, 0, 0, 0, 0, 0, 0, 0]\n",
      "Activation levels of hidden nodes (before bias):\n",
      "[0.12942499 0.5122177  0.11459327 0.37244719 0.30793606 0.24758443\n",
      " 0.25717533 0.13037363 0.22288834 0.25455675 0.36699178 0.20313235\n",
      " 0.30164175 0.09799422 0.14522329 0.12695498 0.11771649 0.3097184\n",
      " 0.28992356 0.09093897 0.2480925  0.52946749 0.39806575 0.31550174\n",
      " 0.30686366 0.34956939 0.11272935 0.32504849 0.33741119 0.38496079\n",
      " 0.24402224 0.2224616  0.1875202  0.20903037 0.39769531 0.34621943\n",
      " 0.60927051 0.66491159 0.21359893 0.23662317 0.26208267 0.1861037\n",
      " 0.19387124 0.5438471  0.12351654 0.40909461 0.46112639 0.26649325\n",
      " 0.66945091 0.44594839 0.34091745 0.27045206 0.35399383 0.28030663\n",
      " 0.22925708 0.17452058 0.44855171 0.21295556 0.35262161 0.498988\n",
      " 0.15761613 0.50721594 0.48295001 0.21707466 0.31298302 0.21207676\n",
      " 0.81212122 0.58360814 0.6373332  0.38146464 0.07799597 0.20488608\n",
      " 0.20793693 0.27041839 0.17879241 0.55591056 0.32815831 0.15564005\n",
      " 0.13765815 0.22182237 0.6825785  0.21405335 0.20797822 0.34182909\n",
      " 0.06289731 0.41229475 0.64527751 0.08414795 0.69057815 0.19218366\n",
      " 0.45661357 0.09691645 0.33546558 0.2805277  0.29763971 0.44324513\n",
      " 0.11359108 0.15444057 0.91943696 0.16754591]\n",
      "\n",
      "Activation levels of output nodes:\n",
      "[0.03188752 0.11123236 0.0528991  0.05644434 0.02456558 0.05894555\n",
      " 0.08260917 0.07164112 0.06176831 0.08879128 0.06386029 0.06893283\n",
      " 0.05818533 0.07410318 0.05784433 0.05306467 0.21553224]\n",
      "[0.59634126 0.02979701 0.03149102 0.04693678 0.00931071 0.07378862\n",
      " 0.03644903 0.10559208 0.14391563 0.04705066 0.05131065 0.0506408\n",
      " 0.16205764 0.02016577 0.02673184 0.05938419 0.05072513]\n",
      "\n",
      "giocano  \n"
     ]
    }
   ],
   "source": [
    "inOutExperiments(\"pappa\",\"la\",\"formaggio\")"
   ]
  },
  {
   "cell_type": "code",
   "execution_count": null,
   "id": "403f60a8-a798-431e-b621-2c25526972b3",
   "metadata": {},
   "outputs": [],
   "source": []
  }
 ],
 "metadata": {
  "kernelspec": {
   "display_name": "Python 3 (ipykernel)",
   "language": "python",
   "name": "python3"
  },
  "language_info": {
   "codemirror_mode": {
    "name": "ipython",
    "version": 3
   },
   "file_extension": ".py",
   "mimetype": "text/x-python",
   "name": "python",
   "nbconvert_exporter": "python",
   "pygments_lexer": "ipython3",
   "version": "3.11.7"
  }
 },
 "nbformat": 4,
 "nbformat_minor": 5
}
