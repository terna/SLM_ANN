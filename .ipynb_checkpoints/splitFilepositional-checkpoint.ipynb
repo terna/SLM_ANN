{
 "cells": [
  {
   "cell_type": "code",
   "execution_count": 1,
   "id": "baf3d565-e0b2-4f69-aa3f-015fe45ddf11",
   "metadata": {},
   "outputs": [
    {
     "name": "stdout",
     "output_type": "stream",
     "text": [
      "{' ': 0, 'il': 1, 'gatto': 2, 'mangia': 3, 'topo': 4, 'miagola': 5, 'cane': 6, 'abbaia': 7, 'formaggio': 8, 'bimbo': 9, 'chiama': 10, 'la': 11, 'mamma': 12, 'pappa': 13, 'piange': 14, 'e': 15, 'giocano': 16}\n",
      "['il', 'gatto', 'mangia', '>', 'il', 'topo']\n",
      "[0, 1, 0, 0, 0, 0, 0, 0, 0, 0, 0, 0, 0, 0, 0, 0, 0, 0, 0, 1, 0, 0, 0, 0, 0, 0, 0, 0, 0, 0, 0, 0, 0, 0, 0, 0, 0, 1, 0, 0, 0, 0, 0, 0, 0, 0, 0, 0, 0, 0, 0]\n",
      "[0.1, 0.9, 0.1, 0.1, 0.1, 0.1, 0.1, 0.1, 0.1, 0.1, 0.1, 0.1, 0.1, 0.1, 0.1, 0.1, 0.1, 0.1, 0.1, 0.1, 0.1, 0.9, 0.1, 0.1, 0.1, 0.1, 0.1, 0.1, 0.1, 0.1, 0.1, 0.1, 0.1, 0.1]\n",
      "['il', 'gatto', ' ', '>', 'miagola', ' ']\n",
      "[0, 1, 0, 0, 0, 0, 0, 0, 0, 0, 0, 0, 0, 0, 0, 0, 0, 0, 0, 1, 0, 0, 0, 0, 0, 0, 0, 0, 0, 0, 0, 0, 0, 0, 1, 0, 0, 0, 0, 0, 0, 0, 0, 0, 0, 0, 0, 0, 0, 0, 0]\n",
      "[0.1, 0.1, 0.1, 0.1, 0.1, 0.9, 0.1, 0.1, 0.1, 0.1, 0.1, 0.1, 0.1, 0.1, 0.1, 0.1, 0.1, 0.9, 0.1, 0.1, 0.1, 0.1, 0.1, 0.1, 0.1, 0.1, 0.1, 0.1, 0.1, 0.1, 0.1, 0.1, 0.1, 0.1]\n",
      "['il', 'cane', 'mangia', '>', 'il', 'gatto']\n",
      "[0, 1, 0, 0, 0, 0, 0, 0, 0, 0, 0, 0, 0, 0, 0, 0, 0, 0, 0, 0, 0, 0, 0, 1, 0, 0, 0, 0, 0, 0, 0, 0, 0, 0, 0, 0, 0, 1, 0, 0, 0, 0, 0, 0, 0, 0, 0, 0, 0, 0, 0]\n",
      "[0.1, 0.9, 0.1, 0.1, 0.1, 0.1, 0.1, 0.1, 0.1, 0.1, 0.1, 0.1, 0.1, 0.1, 0.1, 0.1, 0.1, 0.1, 0.1, 0.9, 0.1, 0.1, 0.1, 0.1, 0.1, 0.1, 0.1, 0.1, 0.1, 0.1, 0.1, 0.1, 0.1, 0.1]\n",
      "['il', 'cane', ' ', '>', 'abbaia', ' ']\n",
      "[0, 1, 0, 0, 0, 0, 0, 0, 0, 0, 0, 0, 0, 0, 0, 0, 0, 0, 0, 0, 0, 0, 0, 1, 0, 0, 0, 0, 0, 0, 0, 0, 0, 0, 1, 0, 0, 0, 0, 0, 0, 0, 0, 0, 0, 0, 0, 0, 0, 0, 0]\n",
      "[0.1, 0.1, 0.1, 0.1, 0.1, 0.1, 0.1, 0.9, 0.1, 0.1, 0.1, 0.1, 0.1, 0.1, 0.1, 0.1, 0.1, 0.9, 0.1, 0.1, 0.1, 0.1, 0.1, 0.1, 0.1, 0.1, 0.1, 0.1, 0.1, 0.1, 0.1, 0.1, 0.1, 0.1]\n",
      "['il', 'topo', 'mangia', '>', 'il', 'formaggio']\n",
      "[0, 1, 0, 0, 0, 0, 0, 0, 0, 0, 0, 0, 0, 0, 0, 0, 0, 0, 0, 0, 0, 1, 0, 0, 0, 0, 0, 0, 0, 0, 0, 0, 0, 0, 0, 0, 0, 1, 0, 0, 0, 0, 0, 0, 0, 0, 0, 0, 0, 0, 0]\n",
      "[0.1, 0.9, 0.1, 0.1, 0.1, 0.1, 0.1, 0.1, 0.1, 0.1, 0.1, 0.1, 0.1, 0.1, 0.1, 0.1, 0.1, 0.1, 0.1, 0.1, 0.1, 0.1, 0.1, 0.1, 0.1, 0.9, 0.1, 0.1, 0.1, 0.1, 0.1, 0.1, 0.1, 0.1]\n",
      "['il', 'bimbo', 'chiama', '>', 'la', 'mamma']\n",
      "[0, 1, 0, 0, 0, 0, 0, 0, 0, 0, 0, 0, 0, 0, 0, 0, 0, 0, 0, 0, 0, 0, 0, 0, 0, 0, 1, 0, 0, 0, 0, 0, 0, 0, 0, 0, 0, 0, 0, 0, 0, 0, 0, 0, 1, 0, 0, 0, 0, 0, 0]\n",
      "[0.1, 0.1, 0.1, 0.1, 0.1, 0.1, 0.1, 0.1, 0.1, 0.1, 0.1, 0.9, 0.1, 0.1, 0.1, 0.1, 0.1, 0.1, 0.1, 0.1, 0.1, 0.1, 0.1, 0.1, 0.1, 0.1, 0.1, 0.1, 0.1, 0.9, 0.1, 0.1, 0.1, 0.1]\n",
      "['il', 'bimbo', 'mangia', '>', 'la', 'pappa']\n",
      "[0, 1, 0, 0, 0, 0, 0, 0, 0, 0, 0, 0, 0, 0, 0, 0, 0, 0, 0, 0, 0, 0, 0, 0, 0, 0, 1, 0, 0, 0, 0, 0, 0, 0, 0, 0, 0, 1, 0, 0, 0, 0, 0, 0, 0, 0, 0, 0, 0, 0, 0]\n",
      "[0.1, 0.1, 0.1, 0.1, 0.1, 0.1, 0.1, 0.1, 0.1, 0.1, 0.1, 0.9, 0.1, 0.1, 0.1, 0.1, 0.1, 0.1, 0.1, 0.1, 0.1, 0.1, 0.1, 0.1, 0.1, 0.1, 0.1, 0.1, 0.1, 0.1, 0.9, 0.1, 0.1, 0.1]\n",
      "['il', 'bimbo', ' ', '>', 'piange', ' ']\n",
      "[0, 1, 0, 0, 0, 0, 0, 0, 0, 0, 0, 0, 0, 0, 0, 0, 0, 0, 0, 0, 0, 0, 0, 0, 0, 0, 1, 0, 0, 0, 0, 0, 0, 0, 1, 0, 0, 0, 0, 0, 0, 0, 0, 0, 0, 0, 0, 0, 0, 0, 0]\n",
      "[0.1, 0.1, 0.1, 0.1, 0.1, 0.1, 0.1, 0.1, 0.1, 0.1, 0.1, 0.1, 0.1, 0.1, 0.9, 0.1, 0.1, 0.9, 0.1, 0.1, 0.1, 0.1, 0.1, 0.1, 0.1, 0.1, 0.1, 0.1, 0.1, 0.1, 0.1, 0.1, 0.1, 0.1]\n",
      "['bimbo', 'e', 'gatto', '>', 'giocano', ' ']\n",
      "[0, 0, 0, 0, 0, 0, 0, 0, 0, 1, 0, 0, 0, 0, 0, 0, 0, 0, 0, 0, 0, 0, 0, 0, 0, 0, 0, 0, 0, 0, 0, 0, 1, 0, 0, 0, 1, 0, 0, 0, 0, 0, 0, 0, 0, 0, 0, 0, 0, 0, 0]\n",
      "[0.1, 0.1, 0.1, 0.1, 0.1, 0.1, 0.1, 0.1, 0.1, 0.1, 0.1, 0.1, 0.1, 0.1, 0.1, 0.1, 0.9, 0.9, 0.1, 0.1, 0.1, 0.1, 0.1, 0.1, 0.1, 0.1, 0.1, 0.1, 0.1, 0.1, 0.1, 0.1, 0.1, 0.1]\n"
     ]
    }
   ],
   "source": [
    "import csv\n",
    "\n",
    "textIn=[]\n",
    "textOu=[]\n",
    "dictionary={}\n",
    "\n",
    "with open(\"textCoding.txt\", newline='') as csvfile:\n",
    "    reader= csv.reader(csvfile, delimiter=',')#, quoting=csv.QUOTE_NONNUMERIC)\n",
    "    \n",
    "    dictionary[' ']=0\n",
    "    for row in reader:\n",
    "        #print(row)\n",
    "        dictionary[row[0]] = int(row[1])\n",
    "\n",
    "    print (dictionary)\n",
    "\n",
    "with open(\"textExamples.txt\", newline='') as csvfile:\n",
    "    reader= csv.reader(csvfile, delimiter=',')#, quoting=csv.QUOTE_NONNUMERIC)\n",
    "    \n",
    "    for row in reader:\n",
    "        # NB, a final space after the comma to create a final empty input\n",
    "        print(row)\n",
    "\n",
    "        #textIn.append(list(row[i] for i in range(3)))\n",
    "        textInPositional=[0]*17*3\n",
    "        textInPositional[dictionary[row[0]]]=1\n",
    "        textInPositional[dictionary[row[1]]+17]=1\n",
    "        textInPositional[dictionary[row[2]]+17*2]=1\n",
    "        textIn.append(textInPositional)\n",
    "        print(textInPositional)\n",
    "       \n",
    "        #textOu.append(list(row[i] for i in range(4,6)))\n",
    "        textOuPositional=[0.1]*17*2\n",
    "        textOuPositional[dictionary[row[4]]]=0.9\n",
    "        textOuPositional[dictionary[row[5]]+17]=0.9\n",
    "        textOu.append(textOuPositional)\n",
    "        print(textOuPositional)\n",
    "        \n",
    "#print(textIn)\n",
    "#print(textOu)\n",
    "\n",
    "with open(\"in.txt\", mode='w', newline='') as csvfile1:\n",
    "    for i in range(len(textIn)):\n",
    "        print(textIn[i], file=csvfile1)\n",
    "                       \n",
    "with open(\"ou.txt\", mode='w', newline='') as csvfile2:\n",
    "    for i in range(len(textOu)):\n",
    "        print(textOu[i], file=csvfile2)"
   ]
  },
  {
   "cell_type": "markdown",
   "id": "7bed72cc-e85f-44d8-a033-3144ce5b714d",
   "metadata": {},
   "source": [
    "Database\n",
    "\n",
    "il,gatto,mangia,>,il,topo  \n",
    "il,gatto,>,miagola  \n",
    "il,cane,mangia,>,il,gatto  \n",
    "il,cane,>,abbaia  \n",
    "il,topo,mangia,>,il,formaggio  \n",
    "il,bimbo,chiama,>,la,mamma  \n",
    "il,bimbo,mangia,>,la,pappa  \n",
    "il,bimbo,>,piange  \n",
    "bimbo,e,gatto,>,giocano  \n",
    "\n",
    "0 as empty position"
   ]
  },
  {
   "cell_type": "code",
   "execution_count": null,
   "id": "30630d47-6905-466b-82a6-b5985058a17a",
   "metadata": {},
   "outputs": [],
   "source": []
  }
 ],
 "metadata": {
  "kernelspec": {
   "display_name": "Python 3 (ipykernel)",
   "language": "python",
   "name": "python3"
  },
  "language_info": {
   "codemirror_mode": {
    "name": "ipython",
    "version": 3
   },
   "file_extension": ".py",
   "mimetype": "text/x-python",
   "name": "python",
   "nbconvert_exporter": "python",
   "pygments_lexer": "ipython3",
   "version": "3.11.7"
  }
 },
 "nbformat": 4,
 "nbformat_minor": 5
}
